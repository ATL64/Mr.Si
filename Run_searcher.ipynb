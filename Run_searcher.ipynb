{
 "cells": [
  {
   "cell_type": "markdown",
   "id": "72e9c6eb-af52-46ea-b692-6c5a721579a6",
   "metadata": {},
   "source": [
    "# Run Searcher"
   ]
  },
  {
   "cell_type": "markdown",
   "id": "3f8167f6-3073-4551-a483-e2d63854543b",
   "metadata": {},
   "source": [
    "With this notebook you can load the functions in one cell and then run the search you want below."
   ]
  },
  {
   "cell_type": "code",
   "execution_count": 1,
   "id": "b3cf91c6-ebb5-4f4f-a436-dc17c19af2ec",
   "metadata": {},
   "outputs": [],
   "source": [
    "import re\n",
    "import os\n",
    "import openai\n",
    "from time import time, sleep\n",
    "import textwrap\n",
    "import pandas as pd\n",
    "import ast\n",
    "import requests\n",
    "import numpy as np\n",
    "from openai.embeddings_utils import get_embedding, cosine_similarity\n",
    "import tiktoken\n",
    "import json\n",
    "import bs4 as bs\n",
    "import time\n",
    "import searcher_utils.searcher_package as s\n",
    "\n"
   ]
  },
  {
   "cell_type": "markdown",
   "id": "42483bd2-5e89-4ab1-91b5-f0b54dad14d5",
   "metadata": {},
   "source": [
    "Run the search"
   ]
  },
  {
   "cell_type": "code",
   "execution_count": null,
   "id": "abf46256-74ac-4c4f-aeba-bb659d9afca7",
   "metadata": {},
   "outputs": [],
   "source": [
    "start = time.time()\n",
    "my_question = \"When will GPT-4 be released?\"\n",
    "urls_per_search = 8\n",
    "top_m_urls = 15\n",
    "top_n_snippets = 25\n",
    "sdf = s.run_search(my_question, urls_per_search, top_m_urls, top_n_snippets, pprint = False)\n",
    "end = time.time()\n",
    "print('minutes elapsed')\n",
    "print((end - start)/60)"
   ]
  },
  {
   "cell_type": "code",
   "execution_count": null,
   "id": "984f3326-a400-4668-b174-e815fabc0707",
   "metadata": {},
   "outputs": [],
   "source": []
  },
  {
   "cell_type": "code",
   "execution_count": null,
   "id": "6ecf263b-1dad-45e3-810a-3d43f5e355b8",
   "metadata": {},
   "outputs": [],
   "source": [
    "sdf[sdf['answer']!='No relevant information here.']#['text'][0]'"
   ]
  },
  {
   "cell_type": "code",
   "execution_count": 6,
   "id": "74a0c07f-2275-4163-abd7-7fe06cdf2a65",
   "metadata": {},
   "outputs": [
    {
     "name": "stdout",
     "output_type": "stream",
     "text": [
      "https://techcrunch.com/2022/12/01/while-anticipation-builds-for-gpt-4-openai-quietly-releases-gpt-3-5/\n",
      "SCORE:\n",
      "7\n",
      "GPT-3 extracted answer:\n",
      "As soon as 2023\n",
      "-------------------------------------------------------------------------------------------------------\n",
      "https://openai.com/blog/better-language-models/\n",
      "SCORE:\n",
      "9\n",
      "GPT-3 extracted answer:\n",
      "We will further publicly discuss this strategy in six months.\n",
      "-------------------------------------------------------------------------------------------------------\n",
      "https://www.technologyreview.com/2020/07/20/1005454/openai-machine-learning-language-generator-gpt-3-nlp/\n",
      "SCORE:\n",
      "8\n",
      "GPT-3 extracted answer:\n",
      "Later this year\n",
      "-------------------------------------------------------------------------------------------------------\n"
     ]
    }
   ],
   "source": [
    "for index, row in sdf[sdf['answer']!='No relevant information here.'].iterrows():\n",
    "    print(row['url'])\n",
    "    print('SCORE:')\n",
    "    print(row['score'])\n",
    "    print('GPT-3 extracted answer:')\n",
    "    print(row['answer'])\n",
    "    print('-------------------------------------------------------------------------------------------------------')"
   ]
  },
  {
   "cell_type": "code",
   "execution_count": null,
   "id": "c5f4fba5-ae92-48c4-82d1-072a4193d8b4",
   "metadata": {},
   "outputs": [],
   "source": []
  }
 ],
 "metadata": {
  "environment": {
   "kernel": "python38",
   "name": "tf2-gpu.2-8.m102",
   "type": "gcloud",
   "uri": "gcr.io/deeplearning-platform-release/tf2-gpu.2-8:m102"
  },
  "kernelspec": {
   "display_name": "python38",
   "language": "python",
   "name": "python38"
  },
  "language_info": {
   "codemirror_mode": {
    "name": "ipython",
    "version": 3
   },
   "file_extension": ".py",
   "mimetype": "text/x-python",
   "name": "python",
   "nbconvert_exporter": "python",
   "pygments_lexer": "ipython3",
   "version": "3.9.15"
  }
 },
 "nbformat": 4,
 "nbformat_minor": 5
}
